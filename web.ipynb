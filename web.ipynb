{
 "cells": [
  {
   "cell_type": "markdown",
   "id": "8d1dccc9",
   "metadata": {
    "extensions": {
     "jupyter_dashboards": {
      "activeView": "grid_default",
      "views": {
       "grid_default": {
        "col": 0,
        "height": 3,
        "hidden": false,
        "row": 0,
        "width": 12
       }
      }
     }
    },
    "tags": []
   },
   "source": [
    "# NLP Web App for Syllabi Data Exploration \n",
    "\n",
    "## This dashboard is for allowing interactive exploratory data analysis "
   ]
  },
  {
   "cell_type": "code",
   "execution_count": 1,
   "id": "ed08bede-9466-49df-886a-4b5cd930c529",
   "metadata": {
    "extensions": {
     "jupyter_dashboards": {
      "activeView": "grid_default",
      "views": {
       "grid_default": {
        "col": null,
        "height": 2,
        "hidden": true,
        "row": null,
        "width": 2
       }
      }
     }
    }
   },
   "outputs": [],
   "source": [
    "# If an error occurs in this cell, it is likely because you need to pip install a package(s) \n",
    "import pandas as pd\n",
    "import os\n",
    "import gensim\n",
    "from gensim.utils import simple_preprocess\n",
    "import nltk\n",
    "#nltk.download('wordnet')\n",
    "#from nltk.corpus import stopwords\n",
    "#from nltk.stem.lancaster import LancasterStemmer\n",
    "import gensim.corpora as corpora\n",
    "from pprint import pprint \n",
    "import ast\n",
    "from glob import glob\n",
    "from collections import Counter\n",
    "import re\n",
    "import matplotlib.pyplot as plt\n",
    "import csv\n",
    "import ipywidgets as widgets \n",
    "from ipywidgets import interact, interact_manual \n",
    "from wordcloud import WordCloud \n",
    "import seaborn as sns"
   ]
  },
  {
   "cell_type": "code",
   "execution_count": 2,
   "id": "cce88a39-c01c-473e-a02f-08f884c80458",
   "metadata": {
    "extensions": {
     "jupyter_dashboards": {
      "activeView": "grid_default",
      "views": {
       "grid_default": {
        "col": null,
        "height": 2,
        "hidden": true,
        "row": null,
        "width": 2
       }
      }
     }
    }
   },
   "outputs": [],
   "source": [
    "# Set directory and get data - may need to modify this to wherever you have the data stored \n",
    "#os.chdir(\"/Users/jordan/Desktop/NLP_Syllabi_Project_copy/data_and_output\")\n",
    "data = pd.read_csv(\"cleaned_data_new.csv\", lineterminator='\\n')\n",
    "data.drop(data.columns[[0, 1, 2]], axis = 1, inplace = True) #drop meaningless indice columns \n",
    "data['index'] = data.index\n",
    "#print(data.head())\n",
    "#len(data.index) #4889 documents "
   ]
  },
  {
   "cell_type": "code",
   "execution_count": 3,
   "id": "e0ae4879-9e9d-4cbc-a330-d21b7d4ed4ea",
   "metadata": {
    "extensions": {
     "jupyter_dashboards": {
      "activeView": "grid_default",
      "views": {
       "grid_default": {
        "col": null,
        "height": 2,
        "hidden": true,
        "row": null,
        "width": 2
       }
      }
     }
    }
   },
   "outputs": [],
   "source": [
    "# Create new data, just text and index \n",
    "data = data[['Corpus', 'index']] \n",
    "#print(data.head())"
   ]
  },
  {
   "cell_type": "code",
   "execution_count": 4,
   "id": "c9126289-991a-4503-a78b-e9b0c73f9ab2",
   "metadata": {
    "extensions": {
     "jupyter_dashboards": {
      "activeView": "grid_default",
      "views": {
       "grid_default": {
        "col": null,
        "height": 2,
        "hidden": true,
        "row": null,
        "width": 2
       }
      }
     }
    }
   },
   "outputs": [],
   "source": [
    "# Further preprocessing (removes stop words and also words 3 characters or less) \n",
    "# Note: There was additional preprocessing done in previous steps (earlier scripts located in scripts folder)\n",
    "def preprocess(text):\n",
    "    result = []\n",
    "    for token in gensim.utils.simple_preprocess(text):\n",
    "        if token not in gensim.parsing.preprocessing.STOPWORDS and len(token) >3:\n",
    "            result.append(token)\n",
    "    return result\n",
    "\n",
    "#doc_sample = data[data['index'] == 1].values[0][0]\n",
    "#print('original document: ')\n",
    "#words = []\n",
    "#for word in doc_sample.split(' '):\n",
    "#    words.append(word)\n",
    "#print(words)\n",
    "#print('\\n\\n tokenized and document: ')\n",
    "#print(preprocess(doc_sample))\n",
    "\n",
    "processed_text = data['Corpus'].astype('str').map(preprocess)\n",
    "#print(processed_text[:10])"
   ]
  },
  {
   "cell_type": "code",
   "execution_count": 5,
   "id": "1c3693dd-fd04-4b56-a95c-30c0ab1b7ef2",
   "metadata": {
    "extensions": {
     "jupyter_dashboards": {
      "activeView": "grid_default",
      "views": {
       "grid_default": {
        "col": null,
        "height": 2,
        "hidden": true,
        "row": null,
        "width": 2
       }
      }
     }
    }
   },
   "outputs": [],
   "source": [
    "# Create word lists for exploratory data analysis \n",
    "\n",
    "# Get all data row lists into one list \n",
    "all_words_list=[]\n",
    "for index, row in processed_text.items():\n",
    "    contri = row\n",
    "    all_words_list.extend(contri)\n",
    "    \n",
    "# Get all data row lists with unique elements into one list (to see individual words by documents - removes duplicates within a single document)\n",
    "all_docs_list=[]\n",
    "for index, row in processed_text.items():\n",
    "    contri = list(set(row))\n",
    "    all_docs_list.extend(contri)"
   ]
  },
  {
   "cell_type": "markdown",
   "id": "237ea771",
   "metadata": {
    "extensions": {
     "jupyter_dashboards": {
      "activeView": "grid_default",
      "views": {
       "grid_default": {
        "col": null,
        "height": 2,
        "hidden": true,
        "row": null,
        "width": 2
       }
      }
     }
    }
   },
   "source": [
    "## Word Frequency Table (Output Truncated for Word Selection Greater Than 50k) "
   ]
  },
  {
   "cell_type": "code",
   "execution_count": 6,
   "id": "f59413dc-2553-4279-bc20-a43626e0b462",
   "metadata": {
    "extensions": {
     "jupyter_dashboards": {
      "activeView": "grid_default",
      "views": {
       "grid_default": {
        "col": 0,
        "height": 8,
        "hidden": false,
        "row": 3,
        "width": 6
       }
      }
     }
    }
   },
   "outputs": [
    {
     "data": {
      "application/vnd.jupyter.widget-view+json": {
       "model_id": "7b6344b6ec9249b18503580c8aa4c09f",
       "version_major": 2,
       "version_minor": 0
      },
      "text/plain": [
       "interactive(children=(IntSlider(value=75681, description='num', max=151364, min=1, step=10), Output()), _dom_c…"
      ]
     },
     "metadata": {},
     "output_type": "display_data"
    }
   ],
   "source": [
    "# Explore word frequencies - this shows the proportion of times a word appears across all 4889 syllabi documents \n",
    "pd.set_option('display.max_rows', 50000) # change this as needed\n",
    "@interact \n",
    "def word_interacter(num=(1,151364,10)):\n",
    "    y = Counter(all_docs_list)\n",
    "    freq = y.most_common(num)\n",
    "    df = pd.DataFrame(freq, columns=[\"Word\", \"Proportion\"])\n",
    "    df['Proportion'] = df['Proportion'].div(4889).round(2) \n",
    "    #df['Percentage'] = (df['Percentage']*100).astype('str').str.strip(\".0\") + \"%\"\n",
    "    return df\n",
    "# To save\n",
    "#df.to_csv(\"word_freq.csv\")"
   ]
  },
  {
   "cell_type": "markdown",
   "id": "34e36d5b",
   "metadata": {
    "extensions": {
     "jupyter_dashboards": {
      "activeView": "grid_default",
      "views": {
       "grid_default": {
        "col": null,
        "height": 2,
        "hidden": true,
        "row": null,
        "width": 2
       }
      }
     }
    }
   },
   "source": [
    "## Word Cloud of Most Common Words"
   ]
  },
  {
   "cell_type": "code",
   "execution_count": 7,
   "id": "5d8d5784-b4ed-4971-924e-ce4ef11960ef",
   "metadata": {
    "extensions": {
     "jupyter_dashboards": {
      "activeView": "grid_default",
      "views": {
       "grid_default": {
        "col": 6,
        "height": 5,
        "hidden": false,
        "row": 3,
        "width": 5
       }
      }
     }
    }
   },
   "outputs": [
    {
     "data": {
      "image/png": "[encoded data removed]",
      "text/plain": [
       "<PIL.Image.Image image mode=RGB size=400x200 at 0x10DE2CD00>"
      ]
     },
     "execution_count": 7,
     "metadata": {},
     "output_type": "execute_result"
    }
   ],
   "source": [
    "# Create word cloud to see a visual of most common words \n",
    "# Didn't make this interactive because it takes too long to load and refresh \n",
    "long_string = ' '.join(all_words_list)\n",
    "wcloud = WordCloud(background_color=\"white\", max_words = 5000, \n",
    "                         contour_width = 3, contour_color='steelblue')\n",
    "wcloud.generate(long_string)\n",
    "wcloud.to_image()"
   ]
  },
  {
   "cell_type": "markdown",
   "id": "8beb3d00",
   "metadata": {
    "extensions": {
     "jupyter_dashboards": {
      "activeView": "grid_default",
      "views": {
       "grid_default": {
        "col": null,
        "height": 2,
        "hidden": true,
        "row": null,
        "width": 2
       }
      }
     }
    }
   },
   "source": [
    "## Histogram of Word Frequencies "
   ]
  },
  {
   "cell_type": "code",
   "execution_count": 8,
   "id": "1b12a4a8-66df-4dc0-8d82-25703dfcf7b1",
   "metadata": {
    "extensions": {
     "jupyter_dashboards": {
      "activeView": "grid_default",
      "views": {
       "grid_default": {
        "col": 6,
        "height": 8,
        "hidden": false,
        "row": 8,
        "width": 6
       }
      }
     }
    }
   },
   "outputs": [
    {
     "data": {
      "application/vnd.jupyter.widget-view+json": {
       "model_id": "f0cd3cf3ecd848d5b14b9b14e8985c83",
       "version_major": 2,
       "version_minor": 0
      },
      "text/plain": [
       "interactive(children=(IntSlider(value=500, description='Num_words', max=1000, min=1), IntSlider(value=252, des…"
      ]
     },
     "metadata": {},
     "output_type": "display_data"
    }
   ],
   "source": [
    "# Histogram of words (gives up to 1000 most common words)\n",
    "@interact\n",
    "def histo_fun(Num_words=(1, 1000, 1), Zoom_image=(4, 500, 1)):\n",
    "    sns.set(rc={\"figure.figsize\": (8, Zoom_image)})\n",
    "    counter=Counter(all_words_list)\n",
    "    most=counter.most_common(Num_words)\n",
    "    x, y= [], []\n",
    "    for word,count in most[:]:\n",
    "        x.append(word)\n",
    "        y.append(count)\n",
    "    return sns.barplot(x=y,y=x)"
   ]
  },
  {
   "cell_type": "code",
   "execution_count": null,
   "id": "66fc176d-8917-4ab3-aa5d-950c184d06bb",
   "metadata": {},
   "outputs": [],
   "source": []
  }
 ],
 "metadata": {
  "extensions": {
   "jupyter_dashboards": {
    "activeView": "grid_default",
    "version": 1,
    "views": {
     "grid_default": {
      "cellMargin": 2,
      "defaultCellHeight": 60,
      "maxColumns": 12,
      "name": "grid",
      "type": "grid"
     }
    }
   }
  },
  "kernelspec": {
   "display_name": "Python 3",
   "language": "python",
   "name": "python3"
  },
  "language_info": {
   "codemirror_mode": {
    "name": "ipython",
    "version": 3
   },
   "file_extension": ".py",
   "mimetype": "text/x-python",
   "name": "python",
   "nbconvert_exporter": "python",
   "pygments_lexer": "ipython3",
   "version": "3.9.5"
  },
  "widgets": {
   "application/vnd.jupyter.widget-state+json": {
    "state": {},
    "version_major": 2,
    "version_minor": 0
   }
  }
 },
 "nbformat": 4,
 "nbformat_minor": 5
}
